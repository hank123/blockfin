{
  "cells": [
    {
      "cell_type": "markdown",
      "metadata": {
        "id": "XoUWmYGIzey3"
      },
      "source": [
        "# MultiModal Document RAG with ColQwen2 and Llama 3.2 90B Vision\n",
        "[![Open In Colab](https://colab.research.google.com/assets/colab-badge.svg)](https://colab.research.google.com/github/togethercomputer/together-cookbook/blob/main/MultiModal_RAG_with_Nvidia_Investor_Slide_Deck.ipynb)"
      ]
    },
    {
      "cell_type": "markdown",
      "metadata": {
        "id": "sr9HH3q1wTOX"
      },
      "source": [
        "## Hardware Requirements\n",
        "*To ensure the notebook runs faster please change the runtime type to T4 GPU:\n",
        "`Runtime` -> `Change runtime type` -> `T4 GPU`*\n",
        "\n",
        "*You can also run this notebook on a 16Gb M1 Macbook Pro"
      ]
    },
    {
      "cell_type": "markdown",
      "metadata": {
        "id": "j3p4bdB8xDT_"
      },
      "source": [
        "## Introduction\n",
        "\n",
        "In this notebook we will see how to use Multimodal RAG to chat with Nvidia's invester slide deck from last year. The [slide deck](https://s201.q4cdn.com/141608511/files/doc_presentations/2023/Oct/01/ndr_presentation_oct_2023_final.pdf) is 39 pages with a combination of text, visuals, tables, charts and annotations. The document structure and templates vary from page to page and is quite difficult to RAG over using traditional methods.\n",
        "\n",
        "We will be using a new multimodal approach!\n",
        "\n",
        "<img src=\"https://github.com/togethercomputer/together-cookbook/blob/main/images/Nvidia_collage.png?raw=1\" width=\"500\">"
      ]
    },
    {
      "cell_type": "markdown",
      "metadata": {
        "id": "L2PpNYOhxM26"
      },
      "source": [
        "## MultiModal RAG Workflow\n",
        "\n",
        "[ColPali](https://arxiv.org/abs/2407.01449) is a new multimodal retrieval system that seamlessly enables image retrieval.\n",
        "\n",
        "By directly encoding image patches, it eliminates the need for optical character recognition (OCR), or image captioning to extract text from PDFs.\n",
        "\n",
        "We will use `byaldi`, a library from [AnswerAI](https://www.answer.ai/), that makes it easier to work with an upgraded version of ColPali, called ColQwen2, to embed and retrieve images of our PDF documents.\n",
        "\n",
        "Retrieved pages will then be passed into the Llama-3.2 90B Vision model served via a [Together AI](https://www.together.ai/) inference endpoint for it to answer questions.\n",
        "\n",
        "To get a better explanation of how ColPali and the new Llama 3.2 Vision models work checkout the [blog post](https://www.together.ai/blog/multimodal-document-rag-with-llama-3-2-vision-and-colqwen2) connected to this notebook."
      ]
    },
    {
      "cell_type": "markdown",
      "metadata": {
        "id": "ADv36gtnxDUA"
      },
      "source": [
        "<img src=\"https://github.com/togethercomputer/together-cookbook/blob/main/images/mmrag_only.png?raw=1\" width=\"600\">"
      ]
    },
    {
      "cell_type": "markdown",
      "metadata": {
        "id": "1cvv_A5-1ehW"
      },
      "source": [
        "### Install relevant libraries"
      ]
    },
    {
      "cell_type": "code",
      "execution_count": 1,
      "metadata": {
        "colab": {
          "base_uri": "https://localhost:8080/"
        },
        "id": "J_Kn_x4Kf-ch",
        "outputId": "62ecb6ad-780d-4de2-a83c-24399da01a1d"
      },
      "outputs": [
        {
          "output_type": "stream",
          "name": "stdout",
          "text": [
            "Requirement already satisfied: byaldi in /usr/local/lib/python3.10/dist-packages (0.0.7)\n",
            "Requirement already satisfied: together in /usr/local/lib/python3.10/dist-packages (1.3.5)\n",
            "Requirement already satisfied: pdf2image in /usr/local/lib/python3.10/dist-packages (1.17.0)\n",
            "Requirement already satisfied: colpali-engine<0.4.0,>=0.3.4 in /usr/local/lib/python3.10/dist-packages (from byaldi) (0.3.4)\n",
            "Requirement already satisfied: ml-dtypes in /usr/local/lib/python3.10/dist-packages (from byaldi) (0.4.1)\n",
            "Requirement already satisfied: mteb==1.6.35 in /usr/local/lib/python3.10/dist-packages (from byaldi) (1.6.35)\n",
            "Requirement already satisfied: ninja in /usr/local/lib/python3.10/dist-packages (from byaldi) (1.11.1.2)\n",
            "Requirement already satisfied: srsly in /usr/local/lib/python3.10/dist-packages (from byaldi) (2.4.8)\n",
            "Requirement already satisfied: torch in /usr/local/lib/python3.10/dist-packages (from byaldi) (2.5.1+cu121)\n",
            "Requirement already satisfied: transformers>=4.42.0 in /usr/local/lib/python3.10/dist-packages (from byaldi) (4.46.2)\n",
            "Requirement already satisfied: datasets>=2.2.0 in /usr/local/lib/python3.10/dist-packages (from mteb==1.6.35->byaldi) (3.1.0)\n",
            "Requirement already satisfied: jsonlines in /usr/local/lib/python3.10/dist-packages (from mteb==1.6.35->byaldi) (4.0.0)\n",
            "Requirement already satisfied: numpy in /usr/local/lib/python3.10/dist-packages (from mteb==1.6.35->byaldi) (1.26.4)\n",
            "Requirement already satisfied: requests>=2.26.0 in /usr/local/lib/python3.10/dist-packages (from mteb==1.6.35->byaldi) (2.32.3)\n",
            "Requirement already satisfied: scikit-learn>=1.0.2 in /usr/local/lib/python3.10/dist-packages (from mteb==1.6.35->byaldi) (1.5.2)\n",
            "Requirement already satisfied: scipy in /usr/local/lib/python3.10/dist-packages (from mteb==1.6.35->byaldi) (1.13.1)\n",
            "Requirement already satisfied: sentence-transformers>=2.2.0 in /usr/local/lib/python3.10/dist-packages (from mteb==1.6.35->byaldi) (3.2.1)\n",
            "Requirement already satisfied: tqdm in /usr/local/lib/python3.10/dist-packages (from mteb==1.6.35->byaldi) (4.66.6)\n",
            "Requirement already satisfied: rich in /usr/local/lib/python3.10/dist-packages (from mteb==1.6.35->byaldi) (13.9.4)\n",
            "Requirement already satisfied: pytrec-eval-terrier>=0.5.6 in /usr/local/lib/python3.10/dist-packages (from mteb==1.6.35->byaldi) (0.5.6)\n",
            "Requirement already satisfied: pydantic in /usr/local/lib/python3.10/dist-packages (from mteb==1.6.35->byaldi) (2.9.2)\n",
            "Requirement already satisfied: typing-extensions in /usr/local/lib/python3.10/dist-packages (from mteb==1.6.35->byaldi) (4.12.2)\n",
            "Requirement already satisfied: eval-type-backport in /usr/local/lib/python3.10/dist-packages (from mteb==1.6.35->byaldi) (0.2.0)\n",
            "Requirement already satisfied: aiohttp<4.0.0,>=3.9.3 in /usr/local/lib/python3.10/dist-packages (from together) (3.11.2)\n",
            "Requirement already satisfied: click<9.0.0,>=8.1.7 in /usr/local/lib/python3.10/dist-packages (from together) (8.1.7)\n",
            "Requirement already satisfied: filelock<4.0.0,>=3.13.1 in /usr/local/lib/python3.10/dist-packages (from together) (3.16.1)\n",
            "Requirement already satisfied: pillow<11.0.0,>=10.3.0 in /usr/local/lib/python3.10/dist-packages (from together) (10.4.0)\n",
            "Requirement already satisfied: pyarrow>=10.0.1 in /usr/local/lib/python3.10/dist-packages (from together) (17.0.0)\n",
            "Requirement already satisfied: tabulate<0.10.0,>=0.9.0 in /usr/local/lib/python3.10/dist-packages (from together) (0.9.0)\n",
            "Requirement already satisfied: typer<0.14,>=0.9 in /usr/local/lib/python3.10/dist-packages (from together) (0.13.0)\n",
            "Requirement already satisfied: aiohappyeyeballs>=2.3.0 in /usr/local/lib/python3.10/dist-packages (from aiohttp<4.0.0,>=3.9.3->together) (2.4.3)\n",
            "Requirement already satisfied: aiosignal>=1.1.2 in /usr/local/lib/python3.10/dist-packages (from aiohttp<4.0.0,>=3.9.3->together) (1.3.1)\n",
            "Requirement already satisfied: attrs>=17.3.0 in /usr/local/lib/python3.10/dist-packages (from aiohttp<4.0.0,>=3.9.3->together) (24.2.0)\n",
            "Requirement already satisfied: frozenlist>=1.1.1 in /usr/local/lib/python3.10/dist-packages (from aiohttp<4.0.0,>=3.9.3->together) (1.5.0)\n",
            "Requirement already satisfied: multidict<7.0,>=4.5 in /usr/local/lib/python3.10/dist-packages (from aiohttp<4.0.0,>=3.9.3->together) (6.1.0)\n",
            "Requirement already satisfied: propcache>=0.2.0 in /usr/local/lib/python3.10/dist-packages (from aiohttp<4.0.0,>=3.9.3->together) (0.2.0)\n",
            "Requirement already satisfied: yarl<2.0,>=1.17.0 in /usr/local/lib/python3.10/dist-packages (from aiohttp<4.0.0,>=3.9.3->together) (1.17.2)\n",
            "Requirement already satisfied: async-timeout<6.0,>=4.0 in /usr/local/lib/python3.10/dist-packages (from aiohttp<4.0.0,>=3.9.3->together) (4.0.3)\n",
            "Requirement already satisfied: gputil in /usr/local/lib/python3.10/dist-packages (from colpali-engine<0.4.0,>=0.3.4->byaldi) (1.4.0)\n",
            "Requirement already satisfied: peft<0.12.0,>=0.11.0 in /usr/local/lib/python3.10/dist-packages (from colpali-engine<0.4.0,>=0.3.4->byaldi) (0.11.1)\n",
            "Requirement already satisfied: annotated-types>=0.6.0 in /usr/local/lib/python3.10/dist-packages (from pydantic->mteb==1.6.35->byaldi) (0.7.0)\n",
            "Requirement already satisfied: pydantic-core==2.23.4 in /usr/local/lib/python3.10/dist-packages (from pydantic->mteb==1.6.35->byaldi) (2.23.4)\n",
            "Requirement already satisfied: charset-normalizer<4,>=2 in /usr/local/lib/python3.10/dist-packages (from requests>=2.26.0->mteb==1.6.35->byaldi) (3.4.0)\n",
            "Requirement already satisfied: idna<4,>=2.5 in /usr/local/lib/python3.10/dist-packages (from requests>=2.26.0->mteb==1.6.35->byaldi) (3.10)\n",
            "Requirement already satisfied: urllib3<3,>=1.21.1 in /usr/local/lib/python3.10/dist-packages (from requests>=2.26.0->mteb==1.6.35->byaldi) (2.2.3)\n",
            "Requirement already satisfied: certifi>=2017.4.17 in /usr/local/lib/python3.10/dist-packages (from requests>=2.26.0->mteb==1.6.35->byaldi) (2024.8.30)\n",
            "Requirement already satisfied: markdown-it-py>=2.2.0 in /usr/local/lib/python3.10/dist-packages (from rich->mteb==1.6.35->byaldi) (3.0.0)\n",
            "Requirement already satisfied: pygments<3.0.0,>=2.13.0 in /usr/local/lib/python3.10/dist-packages (from rich->mteb==1.6.35->byaldi) (2.18.0)\n",
            "Requirement already satisfied: networkx in /usr/local/lib/python3.10/dist-packages (from torch->byaldi) (3.4.2)\n",
            "Requirement already satisfied: jinja2 in /usr/local/lib/python3.10/dist-packages (from torch->byaldi) (3.1.4)\n",
            "Requirement already satisfied: fsspec in /usr/local/lib/python3.10/dist-packages (from torch->byaldi) (2024.9.0)\n",
            "Requirement already satisfied: sympy==1.13.1 in /usr/local/lib/python3.10/dist-packages (from torch->byaldi) (1.13.1)\n",
            "Requirement already satisfied: mpmath<1.4,>=1.1.0 in /usr/local/lib/python3.10/dist-packages (from sympy==1.13.1->torch->byaldi) (1.3.0)\n",
            "Requirement already satisfied: huggingface-hub<1.0,>=0.23.2 in /usr/local/lib/python3.10/dist-packages (from transformers>=4.42.0->byaldi) (0.26.2)\n",
            "Requirement already satisfied: packaging>=20.0 in /usr/local/lib/python3.10/dist-packages (from transformers>=4.42.0->byaldi) (24.2)\n",
            "Requirement already satisfied: pyyaml>=5.1 in /usr/local/lib/python3.10/dist-packages (from transformers>=4.42.0->byaldi) (6.0.2)\n",
            "Requirement already satisfied: regex!=2019.12.17 in /usr/local/lib/python3.10/dist-packages (from transformers>=4.42.0->byaldi) (2024.9.11)\n",
            "Requirement already satisfied: safetensors>=0.4.1 in /usr/local/lib/python3.10/dist-packages (from transformers>=4.42.0->byaldi) (0.4.5)\n",
            "Requirement already satisfied: tokenizers<0.21,>=0.20 in /usr/local/lib/python3.10/dist-packages (from transformers>=4.42.0->byaldi) (0.20.3)\n",
            "Requirement already satisfied: shellingham>=1.3.0 in /usr/local/lib/python3.10/dist-packages (from typer<0.14,>=0.9->together) (1.5.4)\n",
            "Requirement already satisfied: catalogue<2.1.0,>=2.0.3 in /usr/local/lib/python3.10/dist-packages (from srsly->byaldi) (2.0.10)\n",
            "Requirement already satisfied: dill<0.3.9,>=0.3.0 in /usr/local/lib/python3.10/dist-packages (from datasets>=2.2.0->mteb==1.6.35->byaldi) (0.3.8)\n",
            "Requirement already satisfied: pandas in /usr/local/lib/python3.10/dist-packages (from datasets>=2.2.0->mteb==1.6.35->byaldi) (2.2.2)\n",
            "Requirement already satisfied: xxhash in /usr/local/lib/python3.10/dist-packages (from datasets>=2.2.0->mteb==1.6.35->byaldi) (3.5.0)\n",
            "Requirement already satisfied: multiprocess<0.70.17 in /usr/local/lib/python3.10/dist-packages (from datasets>=2.2.0->mteb==1.6.35->byaldi) (0.70.16)\n",
            "Requirement already satisfied: mdurl~=0.1 in /usr/local/lib/python3.10/dist-packages (from markdown-it-py>=2.2.0->rich->mteb==1.6.35->byaldi) (0.1.2)\n",
            "Requirement already satisfied: psutil in /usr/local/lib/python3.10/dist-packages (from peft<0.12.0,>=0.11.0->colpali-engine<0.4.0,>=0.3.4->byaldi) (5.9.5)\n",
            "Requirement already satisfied: accelerate>=0.21.0 in /usr/local/lib/python3.10/dist-packages (from peft<0.12.0,>=0.11.0->colpali-engine<0.4.0,>=0.3.4->byaldi) (1.1.1)\n",
            "Requirement already satisfied: joblib>=1.2.0 in /usr/local/lib/python3.10/dist-packages (from scikit-learn>=1.0.2->mteb==1.6.35->byaldi) (1.4.2)\n",
            "Requirement already satisfied: threadpoolctl>=3.1.0 in /usr/local/lib/python3.10/dist-packages (from scikit-learn>=1.0.2->mteb==1.6.35->byaldi) (3.5.0)\n",
            "Requirement already satisfied: MarkupSafe>=2.0 in /usr/local/lib/python3.10/dist-packages (from jinja2->torch->byaldi) (3.0.2)\n",
            "Requirement already satisfied: python-dateutil>=2.8.2 in /usr/local/lib/python3.10/dist-packages (from pandas->datasets>=2.2.0->mteb==1.6.35->byaldi) (2.8.2)\n",
            "Requirement already satisfied: pytz>=2020.1 in /usr/local/lib/python3.10/dist-packages (from pandas->datasets>=2.2.0->mteb==1.6.35->byaldi) (2024.2)\n",
            "Requirement already satisfied: tzdata>=2022.7 in /usr/local/lib/python3.10/dist-packages (from pandas->datasets>=2.2.0->mteb==1.6.35->byaldi) (2024.2)\n",
            "Requirement already satisfied: six>=1.5 in /usr/local/lib/python3.10/dist-packages (from python-dateutil>=2.8.2->pandas->datasets>=2.2.0->mteb==1.6.35->byaldi) (1.16.0)\n"
          ]
        }
      ],
      "source": [
        "!pip install byaldi together pdf2image"
      ]
    },
    {
      "cell_type": "code",
      "execution_count": 2,
      "metadata": {
        "colab": {
          "base_uri": "https://localhost:8080/"
        },
        "id": "gOV5YtF2xDUB",
        "outputId": "c60f7a60-e5a7-4afb-d6ca-7a2e0e135470"
      },
      "outputs": [
        {
          "output_type": "stream",
          "name": "stdout",
          "text": [
            "Reading package lists... Done\n",
            "Building dependency tree... Done\n",
            "Reading state information... Done\n",
            "The following NEW packages will be installed:\n",
            "  poppler-utils\n",
            "0 upgraded, 1 newly installed, 0 to remove and 49 not upgraded.\n",
            "Need to get 186 kB of archives.\n",
            "After this operation, 696 kB of additional disk space will be used.\n",
            "Get:1 http://archive.ubuntu.com/ubuntu jammy-updates/main amd64 poppler-utils amd64 22.02.0-2ubuntu0.5 [186 kB]\n",
            "Fetched 186 kB in 1s (182 kB/s)\n",
            "debconf: unable to initialize frontend: Dialog\n",
            "debconf: (No usable dialog-like program is installed, so the dialog based frontend cannot be used. at /usr/share/perl5/Debconf/FrontEnd/Dialog.pm line 78, <> line 1.)\n",
            "debconf: falling back to frontend: Readline\n",
            "debconf: unable to initialize frontend: Readline\n",
            "debconf: (This frontend requires a controlling tty.)\n",
            "debconf: falling back to frontend: Teletype\n",
            "dpkg-preconfigure: unable to re-open stdin: \n",
            "Selecting previously unselected package poppler-utils.\n",
            "(Reading database ... 123632 files and directories currently installed.)\n",
            "Preparing to unpack .../poppler-utils_22.02.0-2ubuntu0.5_amd64.deb ...\n",
            "Unpacking poppler-utils (22.02.0-2ubuntu0.5) ...\n",
            "Setting up poppler-utils (22.02.0-2ubuntu0.5) ...\n",
            "Processing triggers for man-db (2.10.2-1) ...\n"
          ]
        }
      ],
      "source": [
        "!sudo apt-get install -y poppler-utils"
      ]
    },
    {
      "cell_type": "code",
      "execution_count": 4,
      "metadata": {
        "id": "IhxzLDwNz20T"
      },
      "outputs": [],
      "source": [
        "# Paste in your Together AI API Key or load it\n",
        "api_key =  \"efd2c374a3dd5e77756d162ba222ce8ce5f4d3da58056fc5762e5aca074918c9\""
      ]
    },
    {
      "cell_type": "markdown",
      "metadata": {
        "id": "u11gFQk11juN"
      },
      "source": [
        "### Initialize the ColPali Model"
      ]
    },
    {
      "cell_type": "code",
      "execution_count": 7,
      "metadata": {
        "colab": {
          "base_uri": "https://localhost:8080/",
          "height": 66,
          "referenced_widgets": [
            "27a982a475d14d47970880392b51f781",
            "1ad95afe044048ab88eeb03615c28644",
            "61497f4dfec444d594812ee0c2363d4b",
            "707934d074d149718984596f97f833e6",
            "067e8a98451e4f74b21dcc8cdcb77c6c",
            "c15d7372470845909a3ec622810fac65",
            "d51b044b5d6746e28edc131df98b0023",
            "0249d528b4f44736b23e1905f11c2dd7",
            "d25391f2ce5b47b0ae0132eaf717ea86",
            "56f311525b4845deb2516151745da02f",
            "f7698301808e4e869c7580cb072d4588"
          ]
        },
        "id": "T36U991Dfrkn",
        "outputId": "c54c5afe-1b71-410c-c154-6c7012ab1a6d"
      },
      "outputs": [
        {
          "metadata": {
            "tags": null
          },
          "name": "stdout",
          "output_type": "stream",
          "text": [
            "Verbosity is set to 1 (active). Pass verbose=0 to make quieter.\n"
          ]
        },
        {
          "data": {
            "application/vnd.jupyter.widget-view+json": {
              "model_id": "27a982a475d14d47970880392b51f781",
              "version_major": 2,
              "version_minor": 0
            },
            "text/plain": [
              "Loading checkpoint shards:   0%|          | 0/2 [00:00<?, ?it/s]"
            ]
          },
          "metadata": {},
          "output_type": "display_data"
        }
      ],
      "source": [
        "import os\n",
        "from pathlib import Path\n",
        "from byaldi import RAGMultiModalModel\n",
        "\n",
        "# Initialize RAGMultiModalModel\n",
        "model = RAGMultiModalModel.from_pretrained(\"vidore/colqwen2-v0.1\")"
      ]
    },
    {
      "cell_type": "markdown",
      "metadata": {
        "id": "6madujxn1pEP"
      },
      "source": [
        "### The document we will be retrieving from is a 39 page Nvidia investor presentation from 2023: [Investor Presentation October 2023](https://s201.q4cdn.com/141608511/files/doc_presentations/2023/Oct/01/ndr_presentation_oct_2023_final.pdf)"
      ]
    },
    {
      "cell_type": "code",
      "execution_count": 8,
      "metadata": {
        "colab": {
          "base_uri": "https://localhost:8080/"
        },
        "id": "SX-TsmXbfrkp",
        "outputId": "8b769cc6-7d61-448c-8900-8ff62c8a842e"
      },
      "outputs": [
        {
          "output_type": "stream",
          "name": "stdout",
          "text": [
            "--2024-12-03 18:37:36--  https://bigtruckrental.com/wp-content/uploads/2019/01/Zero-Radius.pdf\n",
            "Resolving bigtruckrental.com (bigtruckrental.com)... 141.193.213.10, 141.193.213.11\n",
            "Connecting to bigtruckrental.com (bigtruckrental.com)|141.193.213.10|:443... connected.\n",
            "HTTP request sent, awaiting response... 200 OK\n",
            "Length: 10505023 (10M) [application/pdf]\n",
            "Saving to: ‘Zero-Radius.pdf’\n",
            "\n",
            "Zero-Radius.pdf     100%[===================>]  10.02M  18.2MB/s    in 0.6s    \n",
            "\n",
            "2024-12-03 18:37:37 (18.2 MB/s) - ‘Zero-Radius.pdf’ saved [10505023/10505023]\n",
            "\n"
          ]
        }
      ],
      "source": [
        "# Dowload and rename the last presentation from Nvidia to investors\n",
        "!wget https://bigtruckrental.com/wp-content/uploads/2019/01/Zero-Radius.pdf\n"
      ]
    },
    {
      "cell_type": "markdown",
      "metadata": {
        "id": "BgLlnqkO2O4p"
      },
      "source": [
        "### Lets create our index that will store the embeddings for the page images.\n",
        "\n",
        "Caution: This cell below takes ~5 mins to index the whole PDF!"
      ]
    },
    {
      "cell_type": "code",
      "execution_count": 9,
      "metadata": {
        "colab": {
          "base_uri": "https://localhost:8080/"
        },
        "id": "OaoUvbgufrkq",
        "outputId": "5bd0e969-3c22-4a38-efd5-17cc9efca122"
      },
      "outputs": [
        {
          "output_type": "stream",
          "name": "stdout",
          "text": [
            "Added page 1 of document 0 to index.\n",
            "Added page 2 of document 0 to index.\n",
            "Added page 3 of document 0 to index.\n",
            "Added page 4 of document 0 to index.\n",
            "Added page 5 of document 0 to index.\n",
            "Added page 6 of document 0 to index.\n",
            "Added page 7 of document 0 to index.\n",
            "Added page 8 of document 0 to index.\n",
            "Added page 9 of document 0 to index.\n",
            "Added page 10 of document 0 to index.\n",
            "Added page 11 of document 0 to index.\n",
            "Added page 12 of document 0 to index.\n",
            "Added page 13 of document 0 to index.\n",
            "Added page 14 of document 0 to index.\n",
            "Added page 15 of document 0 to index.\n",
            "Added page 16 of document 0 to index.\n",
            "Added page 17 of document 0 to index.\n",
            "Added page 18 of document 0 to index.\n",
            "Added page 19 of document 0 to index.\n",
            "Added page 20 of document 0 to index.\n",
            "Added page 21 of document 0 to index.\n",
            "Added page 22 of document 0 to index.\n",
            "Added page 23 of document 0 to index.\n",
            "Added page 24 of document 0 to index.\n",
            "Added page 25 of document 0 to index.\n",
            "Added page 26 of document 0 to index.\n",
            "Added page 27 of document 0 to index.\n",
            "Added page 28 of document 0 to index.\n",
            "Added page 29 of document 0 to index.\n",
            "Added page 30 of document 0 to index.\n",
            "Added page 31 of document 0 to index.\n",
            "Added page 32 of document 0 to index.\n",
            "Added page 33 of document 0 to index.\n",
            "Added page 34 of document 0 to index.\n",
            "Added page 35 of document 0 to index.\n",
            "Added page 36 of document 0 to index.\n",
            "Added page 37 of document 0 to index.\n",
            "Added page 38 of document 0 to index.\n",
            "Added page 39 of document 0 to index.\n",
            "Added page 40 of document 0 to index.\n",
            "Added page 41 of document 0 to index.\n",
            "Added page 42 of document 0 to index.\n",
            "Added page 43 of document 0 to index.\n",
            "Added page 44 of document 0 to index.\n",
            "Added page 45 of document 0 to index.\n",
            "Added page 46 of document 0 to index.\n",
            "Added page 47 of document 0 to index.\n",
            "Added page 48 of document 0 to index.\n",
            "Added page 49 of document 0 to index.\n",
            "Added page 50 of document 0 to index.\n",
            "Added page 51 of document 0 to index.\n",
            "Added page 52 of document 0 to index.\n",
            "Added page 53 of document 0 to index.\n",
            "Added page 54 of document 0 to index.\n",
            "Added page 55 of document 0 to index.\n",
            "Added page 56 of document 0 to index.\n",
            "Added page 57 of document 0 to index.\n",
            "Added page 58 of document 0 to index.\n",
            "Added page 59 of document 0 to index.\n",
            "Added page 60 of document 0 to index.\n",
            "Added page 61 of document 0 to index.\n",
            "Added page 62 of document 0 to index.\n",
            "Added page 63 of document 0 to index.\n",
            "Added page 64 of document 0 to index.\n",
            "Added page 65 of document 0 to index.\n",
            "Added page 66 of document 0 to index.\n",
            "Added page 67 of document 0 to index.\n",
            "Added page 68 of document 0 to index.\n",
            "Added page 69 of document 0 to index.\n",
            "Added page 70 of document 0 to index.\n",
            "Added page 71 of document 0 to index.\n",
            "Added page 72 of document 0 to index.\n",
            "Added page 73 of document 0 to index.\n",
            "Added page 74 of document 0 to index.\n",
            "Added page 75 of document 0 to index.\n",
            "Added page 76 of document 0 to index.\n",
            "Added page 77 of document 0 to index.\n",
            "Added page 78 of document 0 to index.\n",
            "Added page 79 of document 0 to index.\n",
            "Added page 80 of document 0 to index.\n",
            "Added page 81 of document 0 to index.\n",
            "Added page 82 of document 0 to index.\n",
            "Added page 83 of document 0 to index.\n",
            "Added page 84 of document 0 to index.\n",
            "Added page 85 of document 0 to index.\n",
            "Added page 86 of document 0 to index.\n",
            "Added page 87 of document 0 to index.\n",
            "Added page 88 of document 0 to index.\n",
            "Added page 89 of document 0 to index.\n",
            "Added page 90 of document 0 to index.\n",
            "Added page 91 of document 0 to index.\n",
            "Added page 92 of document 0 to index.\n",
            "Added page 93 of document 0 to index.\n",
            "Added page 94 of document 0 to index.\n",
            "Added page 95 of document 0 to index.\n",
            "Added page 96 of document 0 to index.\n",
            "Added page 97 of document 0 to index.\n",
            "Added page 98 of document 0 to index.\n",
            "Added page 99 of document 0 to index.\n",
            "Added page 100 of document 0 to index.\n",
            "Added page 101 of document 0 to index.\n",
            "Added page 102 of document 0 to index.\n",
            "Added page 103 of document 0 to index.\n",
            "Added page 104 of document 0 to index.\n",
            "Added page 105 of document 0 to index.\n",
            "Added page 106 of document 0 to index.\n",
            "Added page 107 of document 0 to index.\n",
            "Added page 108 of document 0 to index.\n",
            "Added page 109 of document 0 to index.\n",
            "Added page 110 of document 0 to index.\n",
            "Added page 111 of document 0 to index.\n",
            "Added page 112 of document 0 to index.\n",
            "Added page 113 of document 0 to index.\n",
            "Added page 114 of document 0 to index.\n",
            "Added page 115 of document 0 to index.\n",
            "Added page 116 of document 0 to index.\n",
            "Added page 117 of document 0 to index.\n",
            "Added page 118 of document 0 to index.\n",
            "Index exported to .byaldi/nvidia_index\n",
            "Index exported to .byaldi/nvidia_index\n"
          ]
        },
        {
          "output_type": "execute_result",
          "data": {
            "text/plain": [
              "{0: '/content/Zero-Radius.pdf'}"
            ]
          },
          "metadata": {},
          "execution_count": 9
        }
      ],
      "source": [
        "# Use ColQwen2 to index and store the presentation\n",
        "index_name = \"nvidia_index\"\n",
        "model.index(input_path=Path(\"/content/Zero-Radius.pdf\"),\n",
        "    index_name=index_name,\n",
        "    store_collection_with_index=True, # Stores base64 images along with the vectors\n",
        "    overwrite=True\n",
        ")"
      ]
    },
    {
      "cell_type": "markdown",
      "metadata": {
        "id": "egDbkUyExDUD"
      },
      "source": [
        "### This concludes the indexing of the PDF phase - everything below happens at query time.\n",
        "\n",
        "<img src=\"https://github.com/togethercomputer/together-cookbook/blob/main/images/colpali_arch.png?raw=1\" width=\"700\">"
      ]
    },
    {
      "cell_type": "markdown",
      "metadata": {
        "id": "COhZkQ1p2UAA"
      },
      "source": [
        "### Let's query our indexed document.\n",
        "\n",
        "Here the important thing to note is that the query is asking for details that are found on page 25 of the PDF!"
      ]
    },
    {
      "cell_type": "code",
      "execution_count": null,
      "metadata": {
        "colab": {
          "base_uri": "https://localhost:8080/"
        },
        "id": "q5xJfZwepcny",
        "outputId": "f6468300-20d1-4c6f-8dbb-8ea00488974c"
      },
      "outputs": [
        {
          "name": "stdout",
          "output_type": "stream",
          "text": [
            "Search results for 'What are the half year data centre renevue results and the 5 year CAGR for Nvidia data centre revenue?':\n",
            "Doc ID: 0, Page: 25, Score: 25.875\n",
            "Doc ID: 0, Page: 24, Score: 25.0\n",
            "Doc ID: 0, Page: 28, Score: 23.75\n",
            "Doc ID: 0, Page: 32, Score: 23.75\n",
            "Doc ID: 0, Page: 31, Score: 23.75\n",
            "Test completed successfully!\n"
          ]
        }
      ],
      "source": [
        "# Lets query our index and retrieve the page that has content with the highest similarity to the query\n",
        "\n",
        "# The Data Centre revenue results are on page 25 - for context!\n",
        "query = \"What are the half year data centre renevue results and the 5 year CAGR for Nvidia data centre revenue?\"\n",
        "results = model.search(query, k=5)\n",
        "\n",
        "print(f\"Search results for '{query}':\")\n",
        "for result in results:\n",
        "    print(f\"Doc ID: {result.doc_id}, Page: {result.page_num}, Score: {result.score}\")\n",
        "\n",
        "print(\"Test completed successfully!\")"
      ]
    },
    {
      "cell_type": "markdown",
      "metadata": {
        "id": "u4C0ZIZZ2rX5"
      },
      "source": [
        "### Notice that ColQwen2 is able to retrieve that correct page with the highest similarity!"
      ]
    },
    {
      "cell_type": "markdown",
      "metadata": {
        "id": "DE49TzwaxDUD"
      },
      "source": [
        "<img src=\"https://github.com/togethercomputer/together-cookbook/blob/main/images/page_25.png?raw=1\" width=\"700\">"
      ]
    },
    {
      "cell_type": "markdown",
      "metadata": {
        "id": "Osc5HzUwxDUE"
      },
      "source": [
        "### How does this work? What happens under the hood between the different pages and query token?\n",
        "\n",
        "The interaction operation between page image patch and query text token representations to score each page of the document is what allows this great retreival performance.\n",
        "\n",
        "Typically each image is resized and cut into patch sizes of 16x16 pixels. These patches are then embedded into 128 dimensional vectors which are stored and used to perform the MaxSim and late interaction operations between the image and text tokens. ColPali is a multi-vector approach because it produces multiple vectors for each image/query; one vector for each token instead of just one vector for all tokens.\n",
        "\n",
        "<img src=\"https://github.com/togethercomputer/together-cookbook/blob/main/images/ColPaliMaxSim-1.png?raw=1\" width=\"700\">"
      ]
    },
    {
      "cell_type": "markdown",
      "metadata": {
        "id": "_log2fq0ACBi"
      },
      "source": [
        "The retrieval step takes about 185 ms."
      ]
    },
    {
      "cell_type": "code",
      "execution_count": null,
      "metadata": {
        "colab": {
          "base_uri": "https://localhost:8080/"
        },
        "id": "ONF3AD3w_yFC",
        "outputId": "eed43a29-e90e-4cc0-e8cb-59a7fdc6c399"
      },
      "outputs": [
        {
          "name": "stdout",
          "output_type": "stream",
          "text": [
            "182 ms ± 4.7 ms per loop (mean ± std. dev. of 7 runs, 1 loop each)\n"
          ]
        }
      ],
      "source": [
        "%%timeit\n",
        "model.search(query, k=5)"
      ]
    },
    {
      "cell_type": "markdown",
      "metadata": {
        "id": "dohWS-dJ23ch"
      },
      "source": [
        "## Lets now pass in the retrieved page to the Llama-3.2 90B Vision Model.\n",
        "\n",
        "This model will read the question: `\"What are the half year data centre renevue results and the 5 year CAGR for Nivida data centre revenue?\"`\n",
        "\n",
        "And take in the retrieved page and produce an answer!\n",
        "\n",
        "You can pass in a URL to the image of the retrieved page or a base64 encoded version of the image."
      ]
    },
    {
      "cell_type": "code",
      "execution_count": null,
      "metadata": {
        "id": "N2EsJuwKAOME"
      },
      "outputs": [],
      "source": [
        "# Since we stored the collection along with the index we have the base64 images of all PDF pages aswell!\n",
        "model.search(query, k=1)"
      ]
    },
    {
      "cell_type": "code",
      "execution_count": 27,
      "metadata": {
        "id": "Xb7u0tIjEmJW"
      },
      "outputs": [],
      "source": [
        "query = \"where is the clean out door located?\"\n",
        "#query = \"tell me about Refuse Vehicle Button Functions\"\n",
        "returned_page = model.search(query, k=3)[0].base64\n",
        "#returned_page = model.search(query, k=3)\n",
        "#returned_pages = [\n",
        "#          {\"type\": \"image_url\", \"image_url\": {  \"url\": f\"data:image/jpeg;base64,{page.base64}\"}}\n",
        "#          for page in returned_page\n",
        "#        ]"
      ]
    },
    {
      "cell_type": "markdown",
      "metadata": {
        "id": "fdj4ljxhxDUE"
      },
      "source": [
        "## We'll use a [Together AI](together.ai) inference endpoint to access the Llama-3.2 90B Vision model"
      ]
    },
    {
      "cell_type": "code",
      "execution_count": 28,
      "metadata": {
        "colab": {
          "base_uri": "https://localhost:8080/"
        },
        "id": "uXZxiCsoxDUE",
        "outputId": "d857a102-b358-43c6-d322-7e7cf5eea3a0"
      },
      "outputs": [
        {
          "output_type": "stream",
          "name": "stdout",
          "text": [
            "The clean out door is located on the right side of the vehicle, as indicated by the diagram. The diagram shows the clean out door as a separate component, labeled as \"12\" and located on the right side of the vehicle. This suggests that the clean out door is accessible from the outside of the vehicle, allowing for easy cleaning and maintenance.\n"
          ]
        }
      ],
      "source": [
        "import os\n",
        "from together import Together\n",
        "\n",
        "client = Together(api_key = api_key)\n",
        "\n",
        "response = client.chat.completions.create(\n",
        "  model=\"meta-llama/Llama-3.2-90B-Vision-Instruct-Turbo\",\n",
        "  messages=[\n",
        "    {\n",
        "      \"role\": \"user\",\n",
        "      \"content\": [\n",
        "        {\"type\": \"text\", \"text\": query}, #query\n",
        "        {\n",
        "          \"type\": \"image_url\",\n",
        "          \"image_url\": {\n",
        "            \"url\": f\"data:image/jpeg;base64,{returned_page}\", #retrieved page image\n",
        "          },\n",
        "        },\n",
        "      ],\n",
        "    }\n",
        "  ],\n",
        "  max_tokens=300,\n",
        ")\n",
        "\n",
        "print(response.choices[0].message.content)\n"
      ]
    },
    {
      "cell_type": "markdown",
      "metadata": {
        "id": "ADhM4ljj4E8w"
      },
      "source": [
        "Here we can see that the combination of ColQwen2 as a image retriever and Llama-3.2 90B Vision is a powerful duo for multimodal RAG applications specially with PDFs.\n",
        "\n",
        "Not only was ColQwen2 able to retrieve the correct page that had the right answer on it but then Llama-3.2 90B Vision was also able to find exactly where on the page this answer was, ignoring all the irrelvant details!\n",
        "\n",
        "Voila!🎉🎉\n",
        "\n",
        "Learn more about Llama 3.2 Vision in the [docs](https://docs.together.ai/docs/vision-overview) here!"
      ]
    }
  ],
  "metadata": {
    "accelerator": "GPU",
    "colab": {
      "gpuType": "T4",
      "provenance": []
    },
    "kernelspec": {
      "display_name": "Python 3",
      "name": "python3"
    },
    "language_info": {
      "codemirror_mode": {
        "name": "ipython",
        "version": 3
      },
      "file_extension": ".py",
      "mimetype": "text/x-python",
      "name": "python",
      "nbconvert_exporter": "python",
      "pygments_lexer": "ipython3",
      "version": "3.10.14"
    },
    "widgets": {
      "application/vnd.jupyter.widget-state+json": {
        "27a982a475d14d47970880392b51f781": {
          "model_module": "@jupyter-widgets/controls",
          "model_name": "HBoxModel",
          "model_module_version": "1.5.0",
          "state": {
            "_dom_classes": [],
            "_model_module": "@jupyter-widgets/controls",
            "_model_module_version": "1.5.0",
            "_model_name": "HBoxModel",
            "_view_count": null,
            "_view_module": "@jupyter-widgets/controls",
            "_view_module_version": "1.5.0",
            "_view_name": "HBoxView",
            "box_style": "",
            "children": [
              "IPY_MODEL_1ad95afe044048ab88eeb03615c28644",
              "IPY_MODEL_61497f4dfec444d594812ee0c2363d4b",
              "IPY_MODEL_707934d074d149718984596f97f833e6"
            ],
            "layout": "IPY_MODEL_067e8a98451e4f74b21dcc8cdcb77c6c"
          }
        },
        "1ad95afe044048ab88eeb03615c28644": {
          "model_module": "@jupyter-widgets/controls",
          "model_name": "HTMLModel",
          "model_module_version": "1.5.0",
          "state": {
            "_dom_classes": [],
            "_model_module": "@jupyter-widgets/controls",
            "_model_module_version": "1.5.0",
            "_model_name": "HTMLModel",
            "_view_count": null,
            "_view_module": "@jupyter-widgets/controls",
            "_view_module_version": "1.5.0",
            "_view_name": "HTMLView",
            "description": "",
            "description_tooltip": null,
            "layout": "IPY_MODEL_c15d7372470845909a3ec622810fac65",
            "placeholder": "​",
            "style": "IPY_MODEL_d51b044b5d6746e28edc131df98b0023",
            "value": "Loading checkpoint shards: 100%"
          }
        },
        "61497f4dfec444d594812ee0c2363d4b": {
          "model_module": "@jupyter-widgets/controls",
          "model_name": "FloatProgressModel",
          "model_module_version": "1.5.0",
          "state": {
            "_dom_classes": [],
            "_model_module": "@jupyter-widgets/controls",
            "_model_module_version": "1.5.0",
            "_model_name": "FloatProgressModel",
            "_view_count": null,
            "_view_module": "@jupyter-widgets/controls",
            "_view_module_version": "1.5.0",
            "_view_name": "ProgressView",
            "bar_style": "success",
            "description": "",
            "description_tooltip": null,
            "layout": "IPY_MODEL_0249d528b4f44736b23e1905f11c2dd7",
            "max": 2,
            "min": 0,
            "orientation": "horizontal",
            "style": "IPY_MODEL_d25391f2ce5b47b0ae0132eaf717ea86",
            "value": 2
          }
        },
        "707934d074d149718984596f97f833e6": {
          "model_module": "@jupyter-widgets/controls",
          "model_name": "HTMLModel",
          "model_module_version": "1.5.0",
          "state": {
            "_dom_classes": [],
            "_model_module": "@jupyter-widgets/controls",
            "_model_module_version": "1.5.0",
            "_model_name": "HTMLModel",
            "_view_count": null,
            "_view_module": "@jupyter-widgets/controls",
            "_view_module_version": "1.5.0",
            "_view_name": "HTMLView",
            "description": "",
            "description_tooltip": null,
            "layout": "IPY_MODEL_56f311525b4845deb2516151745da02f",
            "placeholder": "​",
            "style": "IPY_MODEL_f7698301808e4e869c7580cb072d4588",
            "value": " 2/2 [00:40&lt;00:00, 19.54s/it]"
          }
        },
        "067e8a98451e4f74b21dcc8cdcb77c6c": {
          "model_module": "@jupyter-widgets/base",
          "model_name": "LayoutModel",
          "model_module_version": "1.2.0",
          "state": {
            "_model_module": "@jupyter-widgets/base",
            "_model_module_version": "1.2.0",
            "_model_name": "LayoutModel",
            "_view_count": null,
            "_view_module": "@jupyter-widgets/base",
            "_view_module_version": "1.2.0",
            "_view_name": "LayoutView",
            "align_content": null,
            "align_items": null,
            "align_self": null,
            "border": null,
            "bottom": null,
            "display": null,
            "flex": null,
            "flex_flow": null,
            "grid_area": null,
            "grid_auto_columns": null,
            "grid_auto_flow": null,
            "grid_auto_rows": null,
            "grid_column": null,
            "grid_gap": null,
            "grid_row": null,
            "grid_template_areas": null,
            "grid_template_columns": null,
            "grid_template_rows": null,
            "height": null,
            "justify_content": null,
            "justify_items": null,
            "left": null,
            "margin": null,
            "max_height": null,
            "max_width": null,
            "min_height": null,
            "min_width": null,
            "object_fit": null,
            "object_position": null,
            "order": null,
            "overflow": null,
            "overflow_x": null,
            "overflow_y": null,
            "padding": null,
            "right": null,
            "top": null,
            "visibility": null,
            "width": null
          }
        },
        "c15d7372470845909a3ec622810fac65": {
          "model_module": "@jupyter-widgets/base",
          "model_name": "LayoutModel",
          "model_module_version": "1.2.0",
          "state": {
            "_model_module": "@jupyter-widgets/base",
            "_model_module_version": "1.2.0",
            "_model_name": "LayoutModel",
            "_view_count": null,
            "_view_module": "@jupyter-widgets/base",
            "_view_module_version": "1.2.0",
            "_view_name": "LayoutView",
            "align_content": null,
            "align_items": null,
            "align_self": null,
            "border": null,
            "bottom": null,
            "display": null,
            "flex": null,
            "flex_flow": null,
            "grid_area": null,
            "grid_auto_columns": null,
            "grid_auto_flow": null,
            "grid_auto_rows": null,
            "grid_column": null,
            "grid_gap": null,
            "grid_row": null,
            "grid_template_areas": null,
            "grid_template_columns": null,
            "grid_template_rows": null,
            "height": null,
            "justify_content": null,
            "justify_items": null,
            "left": null,
            "margin": null,
            "max_height": null,
            "max_width": null,
            "min_height": null,
            "min_width": null,
            "object_fit": null,
            "object_position": null,
            "order": null,
            "overflow": null,
            "overflow_x": null,
            "overflow_y": null,
            "padding": null,
            "right": null,
            "top": null,
            "visibility": null,
            "width": null
          }
        },
        "d51b044b5d6746e28edc131df98b0023": {
          "model_module": "@jupyter-widgets/controls",
          "model_name": "DescriptionStyleModel",
          "model_module_version": "1.5.0",
          "state": {
            "_model_module": "@jupyter-widgets/controls",
            "_model_module_version": "1.5.0",
            "_model_name": "DescriptionStyleModel",
            "_view_count": null,
            "_view_module": "@jupyter-widgets/base",
            "_view_module_version": "1.2.0",
            "_view_name": "StyleView",
            "description_width": ""
          }
        },
        "0249d528b4f44736b23e1905f11c2dd7": {
          "model_module": "@jupyter-widgets/base",
          "model_name": "LayoutModel",
          "model_module_version": "1.2.0",
          "state": {
            "_model_module": "@jupyter-widgets/base",
            "_model_module_version": "1.2.0",
            "_model_name": "LayoutModel",
            "_view_count": null,
            "_view_module": "@jupyter-widgets/base",
            "_view_module_version": "1.2.0",
            "_view_name": "LayoutView",
            "align_content": null,
            "align_items": null,
            "align_self": null,
            "border": null,
            "bottom": null,
            "display": null,
            "flex": null,
            "flex_flow": null,
            "grid_area": null,
            "grid_auto_columns": null,
            "grid_auto_flow": null,
            "grid_auto_rows": null,
            "grid_column": null,
            "grid_gap": null,
            "grid_row": null,
            "grid_template_areas": null,
            "grid_template_columns": null,
            "grid_template_rows": null,
            "height": null,
            "justify_content": null,
            "justify_items": null,
            "left": null,
            "margin": null,
            "max_height": null,
            "max_width": null,
            "min_height": null,
            "min_width": null,
            "object_fit": null,
            "object_position": null,
            "order": null,
            "overflow": null,
            "overflow_x": null,
            "overflow_y": null,
            "padding": null,
            "right": null,
            "top": null,
            "visibility": null,
            "width": null
          }
        },
        "d25391f2ce5b47b0ae0132eaf717ea86": {
          "model_module": "@jupyter-widgets/controls",
          "model_name": "ProgressStyleModel",
          "model_module_version": "1.5.0",
          "state": {
            "_model_module": "@jupyter-widgets/controls",
            "_model_module_version": "1.5.0",
            "_model_name": "ProgressStyleModel",
            "_view_count": null,
            "_view_module": "@jupyter-widgets/base",
            "_view_module_version": "1.2.0",
            "_view_name": "StyleView",
            "bar_color": null,
            "description_width": ""
          }
        },
        "56f311525b4845deb2516151745da02f": {
          "model_module": "@jupyter-widgets/base",
          "model_name": "LayoutModel",
          "model_module_version": "1.2.0",
          "state": {
            "_model_module": "@jupyter-widgets/base",
            "_model_module_version": "1.2.0",
            "_model_name": "LayoutModel",
            "_view_count": null,
            "_view_module": "@jupyter-widgets/base",
            "_view_module_version": "1.2.0",
            "_view_name": "LayoutView",
            "align_content": null,
            "align_items": null,
            "align_self": null,
            "border": null,
            "bottom": null,
            "display": null,
            "flex": null,
            "flex_flow": null,
            "grid_area": null,
            "grid_auto_columns": null,
            "grid_auto_flow": null,
            "grid_auto_rows": null,
            "grid_column": null,
            "grid_gap": null,
            "grid_row": null,
            "grid_template_areas": null,
            "grid_template_columns": null,
            "grid_template_rows": null,
            "height": null,
            "justify_content": null,
            "justify_items": null,
            "left": null,
            "margin": null,
            "max_height": null,
            "max_width": null,
            "min_height": null,
            "min_width": null,
            "object_fit": null,
            "object_position": null,
            "order": null,
            "overflow": null,
            "overflow_x": null,
            "overflow_y": null,
            "padding": null,
            "right": null,
            "top": null,
            "visibility": null,
            "width": null
          }
        },
        "f7698301808e4e869c7580cb072d4588": {
          "model_module": "@jupyter-widgets/controls",
          "model_name": "DescriptionStyleModel",
          "model_module_version": "1.5.0",
          "state": {
            "_model_module": "@jupyter-widgets/controls",
            "_model_module_version": "1.5.0",
            "_model_name": "DescriptionStyleModel",
            "_view_count": null,
            "_view_module": "@jupyter-widgets/base",
            "_view_module_version": "1.2.0",
            "_view_name": "StyleView",
            "description_width": ""
          }
        }
      }
    }
  },
  "nbformat": 4,
  "nbformat_minor": 0
}